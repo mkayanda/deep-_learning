{
  "nbformat": 4,
  "nbformat_minor": 0,
  "metadata": {
    "colab": {
      "name": "Mnist.ipynb",
      "provenance": [],
      "authorship_tag": "ABX9TyOAl/BA+9oDPKpD8a990xLe",
      "include_colab_link": true
    },
    "kernelspec": {
      "name": "python3",
      "display_name": "Python 3"
    },
    "language_info": {
      "name": "python"
    }
  },
  "cells": [
    {
      "cell_type": "markdown",
      "metadata": {
        "id": "view-in-github",
        "colab_type": "text"
      },
      "source": [
        "<a href=\"https://colab.research.google.com/github/mkayanda/deep-_learning/blob/main/Mnist.ipynb\" target=\"_parent\"><img src=\"https://colab.research.google.com/assets/colab-badge.svg\" alt=\"Open In Colab\"/></a>"
      ]
    },
    {
      "cell_type": "code",
      "execution_count": null,
      "metadata": {
        "id": "3vG2eCC5EuhS"
      },
      "outputs": [],
      "source": [
        "#loading the MNIST dataset in Keras\n",
        "\n",
        "from tensorflow.keras.datasets import mnist"
      ]
    },
    {
      "cell_type": "code",
      "source": [
        "(train_images, train_labels), (test_images, test_labels) = mnist.load_data()"
      ],
      "metadata": {
        "id": "OrrtjGU4E2Lv"
      },
      "execution_count": null,
      "outputs": []
    },
    {
      "cell_type": "code",
      "source": [
        "train_images.shape"
      ],
      "metadata": {
        "colab": {
          "base_uri": "https://localhost:8080/"
        },
        "id": "SFKX-aIjFHQ9",
        "outputId": "fda098b1-0eba-400c-8b42-757de7dc1a1a"
      },
      "execution_count": null,
      "outputs": [
        {
          "output_type": "execute_result",
          "data": {
            "text/plain": [
              "(60000, 28, 28)"
            ]
          },
          "metadata": {},
          "execution_count": 3
        }
      ]
    },
    {
      "cell_type": "code",
      "source": [
        "len(train_images)"
      ],
      "metadata": {
        "colab": {
          "base_uri": "https://localhost:8080/"
        },
        "id": "7FSAPAmJFJ99",
        "outputId": "d59bab83-7453-4153-c517-2ef755c1203a"
      },
      "execution_count": null,
      "outputs": [
        {
          "output_type": "execute_result",
          "data": {
            "text/plain": [
              "60000"
            ]
          },
          "metadata": {},
          "execution_count": 4
        }
      ]
    },
    {
      "cell_type": "code",
      "source": [
        "train_labels"
      ],
      "metadata": {
        "colab": {
          "base_uri": "https://localhost:8080/"
        },
        "id": "Y8KFiCXBFNPM",
        "outputId": "67bbf0c7-8fe8-4730-fc34-a5faaf6f7e72"
      },
      "execution_count": null,
      "outputs": [
        {
          "output_type": "execute_result",
          "data": {
            "text/plain": [
              "array([5, 0, 4, ..., 5, 6, 8], dtype=uint8)"
            ]
          },
          "metadata": {},
          "execution_count": 5
        }
      ]
    },
    {
      "cell_type": "code",
      "source": [
        "#test Data\n",
        "test_images.shape"
      ],
      "metadata": {
        "colab": {
          "base_uri": "https://localhost:8080/"
        },
        "id": "iym99qBQFO4F",
        "outputId": "82d55dfc-237e-4a48-d8c7-2e837b3fdb3f"
      },
      "execution_count": null,
      "outputs": [
        {
          "output_type": "execute_result",
          "data": {
            "text/plain": [
              "(10000, 28, 28)"
            ]
          },
          "metadata": {},
          "execution_count": 6
        }
      ]
    },
    {
      "cell_type": "code",
      "source": [
        "len(test_images)"
      ],
      "metadata": {
        "colab": {
          "base_uri": "https://localhost:8080/"
        },
        "id": "wa21WuVFFUIM",
        "outputId": "1eb3c522-04fe-4caf-873a-65e4bd82627e"
      },
      "execution_count": null,
      "outputs": [
        {
          "output_type": "execute_result",
          "data": {
            "text/plain": [
              "10000"
            ]
          },
          "metadata": {},
          "execution_count": 7
        }
      ]
    },
    {
      "cell_type": "code",
      "source": [
        "test_labels"
      ],
      "metadata": {
        "colab": {
          "base_uri": "https://localhost:8080/"
        },
        "id": "dIPB-1LQFWk0",
        "outputId": "509b1a3a-591c-4db7-cd48-8a909a0f0f0f"
      },
      "execution_count": null,
      "outputs": [
        {
          "output_type": "execute_result",
          "data": {
            "text/plain": [
              "array([7, 2, 1, ..., 4, 5, 6], dtype=uint8)"
            ]
          },
          "metadata": {},
          "execution_count": 8
        }
      ]
    },
    {
      "cell_type": "markdown",
      "source": [
        "We reshape the data into the shape the model expects and scale it so that all the values are in the [0,1] interval. "
      ],
      "metadata": {
        "id": "t1-A13IhLKhN"
      }
    },
    {
      "cell_type": "code",
      "source": [
        "#preparing the image data\n",
        "\n",
        "train_images = train_images.reshape((60000, 28 * 28))\n",
        "train_images = train_images.astype(\"float32\") / 255 \n",
        "test_images = test_images.reshape((10000, 28 * 28))\n",
        "test_images = test_images.astype(\"float32\") / 255 \n"
      ],
      "metadata": {
        "id": "h6NN-PWaKuzN"
      },
      "execution_count": null,
      "outputs": []
    },
    {
      "cell_type": "code",
      "source": [
        ""
      ],
      "metadata": {
        "id": "mcvXTlH0K8_2"
      },
      "execution_count": null,
      "outputs": []
    },
    {
      "cell_type": "markdown",
      "source": [
        "First, feed the training data (train_images & train_labels) to the NN. The network learns to associate images and labels. Then finally, the network will make predictions for test_images and we'll verify this with test_labels"
      ],
      "metadata": {
        "id": "BdLlBpSAFizz"
      }
    },
    {
      "cell_type": "code",
      "source": [
        "# the network architecture\n",
        "\n",
        "from tensorflow import keras\n",
        "from tensorflow.keras import layers\n"
      ],
      "metadata": {
        "id": "51JLpS-LFY-c"
      },
      "execution_count": null,
      "outputs": []
    },
    {
      "cell_type": "code",
      "source": [
        "model = keras.Sequential([\n",
        "                          layers.Dense(512, activation='relu'),\n",
        "                          layers.Dense(10, activation=\"softmax\")\n",
        "])"
      ],
      "metadata": {
        "id": "sZ9i25wYGPpi"
      },
      "execution_count": null,
      "outputs": []
    },
    {
      "cell_type": "markdown",
      "source": [
        "To explain what is happening at the architecture, layers are the core building blocks of Nueral Network. Layers extact representations out of the data fed into them. A layer is essentially a filter for data; some data goes in, comes out in a more useful form. A deep learning model is like a sieve for data processing, made of a succession of increasing refined data filters aka layers!\n",
        "\n",
        "In our model above, we have two Dense layers (fully connected neural layers). The last layer (2nd) a 10 way softmax classification layer, returns an array of 10 probability scores with each score being the probability that the current digit image belongs to one of our digit classes. \n",
        "\n",
        "In summary, to make the model ready for training we need to pick three more things as part of the compilation step:\n",
        "\n",
        "      1. An Optimizer - this is the mechanism through which the model will update itself based on the training data it sees, so as to improve its performance. \n",
        "      2. A loss function - how a model will be able to steer itself in the right direction by measuring its performance on the training data.\n",
        "      3. Metrics to monitor during the training and testing. - Accuracy is our main goal here, in other words, the fraction of the images that were correctly classified. "
      ],
      "metadata": {
        "id": "MsVAeDHUGkDu"
      }
    },
    {
      "cell_type": "code",
      "source": [
        "# The compilation step"
      ],
      "metadata": {
        "id": "KpUCC4J7Gg42"
      },
      "execution_count": null,
      "outputs": []
    },
    {
      "cell_type": "code",
      "source": [
        "model.compile(optimizer=\"rmsprop\",\n",
        "              loss= \"sparse_categorical_crossentropy\",\n",
        "              metrics = ['accuracy'])"
      ],
      "metadata": {
        "id": "ZcrkIObvKQxc"
      },
      "execution_count": null,
      "outputs": []
    },
    {
      "cell_type": "code",
      "source": [
        "# Fitting the model "
      ],
      "metadata": {
        "id": "2JfMJtm8KkXK"
      },
      "execution_count": null,
      "outputs": []
    },
    {
      "cell_type": "code",
      "source": [
        "model.fit(train_images, train_labels, epochs=5, batch_size=128)"
      ],
      "metadata": {
        "colab": {
          "base_uri": "https://localhost:8080/"
        },
        "id": "vanUszqsLpCX",
        "outputId": "152ccf44-2114-4db4-c65d-4d645b88734c"
      },
      "execution_count": null,
      "outputs": [
        {
          "output_type": "stream",
          "name": "stdout",
          "text": [
            "Epoch 1/5\n",
            "469/469 [==============================] - 5s 9ms/step - loss: 0.2593 - accuracy: 0.9251\n",
            "Epoch 2/5\n",
            "469/469 [==============================] - 4s 9ms/step - loss: 0.1024 - accuracy: 0.9692\n",
            "Epoch 3/5\n",
            "469/469 [==============================] - 4s 9ms/step - loss: 0.0666 - accuracy: 0.9798\n",
            "Epoch 4/5\n",
            "469/469 [==============================] - 4s 9ms/step - loss: 0.0485 - accuracy: 0.9857\n",
            "Epoch 5/5\n",
            "469/469 [==============================] - 4s 9ms/step - loss: 0.0359 - accuracy: 0.9889\n"
          ]
        },
        {
          "output_type": "execute_result",
          "data": {
            "text/plain": [
              "<keras.callbacks.History at 0x7f5f15cbc410>"
            ]
          },
          "metadata": {},
          "execution_count": 15
        }
      ]
    },
    {
      "cell_type": "markdown",
      "source": [
        "Having trained the model, we can use it to predict class probabilities for new digits that the model hasn't seen yet; The test data."
      ],
      "metadata": {
        "id": "GB4Ho5aNMRtn"
      }
    },
    {
      "cell_type": "code",
      "source": [
        "test_digits = test_images[0 : 10]\n",
        "predictions = model.predict(test_digits)\n",
        "predictions[0]"
      ],
      "metadata": {
        "colab": {
          "base_uri": "https://localhost:8080/"
        },
        "id": "SqxCZrGhL4N2",
        "outputId": "dbba0244-35c4-403b-cea6-0ec15de6dc94"
      },
      "execution_count": null,
      "outputs": [
        {
          "output_type": "execute_result",
          "data": {
            "text/plain": [
              "array([4.9237603e-10, 1.9556004e-12, 2.2516696e-07, 7.3782699e-06,\n",
              "       7.0213041e-12, 5.8821024e-09, 4.0760640e-15, 9.9999189e-01,\n",
              "       5.6180347e-08, 4.6208572e-07], dtype=float32)"
            ]
          },
          "metadata": {},
          "execution_count": 16
        }
      ]
    },
    {
      "cell_type": "markdown",
      "source": [
        "Each number of index i in that array corresponds to the probability that digit image test_digits[0] belongs to class i .\n",
        " This first test digit has the highest probability score (0.99999106, almost 1) at index 7, so according to our model, it must be a 7:\n"
      ],
      "metadata": {
        "id": "zjaP6-QcNBIt"
      }
    },
    {
      "cell_type": "code",
      "source": [
        "predictions[0].argmax()"
      ],
      "metadata": {
        "colab": {
          "base_uri": "https://localhost:8080/"
        },
        "id": "TaEW-4TyMyND",
        "outputId": "c11f4874-c668-4150-f020-d9cc8c992a3f"
      },
      "execution_count": null,
      "outputs": [
        {
          "output_type": "execute_result",
          "data": {
            "text/plain": [
              "7"
            ]
          },
          "metadata": {},
          "execution_count": 17
        }
      ]
    },
    {
      "cell_type": "code",
      "source": [
        "predictions[0][7]"
      ],
      "metadata": {
        "colab": {
          "base_uri": "https://localhost:8080/"
        },
        "id": "3FYJ2n5lP0Yh",
        "outputId": "ddbd022d-1680-486e-a9af-3e0ed253c8a3"
      },
      "execution_count": null,
      "outputs": [
        {
          "output_type": "execute_result",
          "data": {
            "text/plain": [
              "0.9999919"
            ]
          },
          "metadata": {},
          "execution_count": 18
        }
      ]
    },
    {
      "cell_type": "code",
      "source": [
        "test_labels[0]"
      ],
      "metadata": {
        "colab": {
          "base_uri": "https://localhost:8080/"
        },
        "id": "wAfnhA4cP3fA",
        "outputId": "2a0bafff-6e29-447f-b2ae-bf5dfe044057"
      },
      "execution_count": null,
      "outputs": [
        {
          "output_type": "execute_result",
          "data": {
            "text/plain": [
              "7"
            ]
          },
          "metadata": {},
          "execution_count": 19
        }
      ]
    },
    {
      "cell_type": "code",
      "source": [
        "#Evaluating the model on new data"
      ],
      "metadata": {
        "id": "dRWhoTZeP6hQ"
      },
      "execution_count": null,
      "outputs": []
    },
    {
      "cell_type": "code",
      "source": [
        "test_lost, test_acc = model.evaluate(test_images, test_labels)\n",
        "print(f'test_acc: {test_acc}')\n"
      ],
      "metadata": {
        "colab": {
          "base_uri": "https://localhost:8080/"
        },
        "id": "PqMv-b5OQBxI",
        "outputId": "8c7b36a0-561d-428b-8c42-74383c00128b"
      },
      "execution_count": null,
      "outputs": [
        {
          "output_type": "stream",
          "name": "stdout",
          "text": [
            "313/313 [==============================] - 1s 2ms/step - loss: 0.0634 - accuracy: 0.9803\n",
            "test_acc: 0.9803000092506409\n"
          ]
        }
      ]
    },
    {
      "cell_type": "markdown",
      "source": [
        "Comparing the results of test_acc and our model accuracy, we see that there is a gap (a bit lower on test_acc). This gap is showing overfitting; when models tend to perfrom worse on unseen data than they did on training data. "
      ],
      "metadata": {
        "id": "-1KzGlsTQc6C"
      }
    },
    {
      "cell_type": "code",
      "source": [
        ""
      ],
      "metadata": {
        "id": "IFSaFpP5QTRv"
      },
      "execution_count": null,
      "outputs": []
    }
  ]
}