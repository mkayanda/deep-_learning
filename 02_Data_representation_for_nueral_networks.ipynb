{
  "nbformat": 4,
  "nbformat_minor": 0,
  "metadata": {
    "colab": {
      "name": "02_Data_representation_for_nueral_networks.ipynb",
      "provenance": [],
      "authorship_tag": "ABX9TyPi1amC8cqWlykLr69KpgUN",
      "include_colab_link": true
    },
    "kernelspec": {
      "name": "python3",
      "display_name": "Python 3"
    },
    "language_info": {
      "name": "python"
    }
  },
  "cells": [
    {
      "cell_type": "markdown",
      "metadata": {
        "id": "view-in-github",
        "colab_type": "text"
      },
      "source": [
        "<a href=\"https://colab.research.google.com/github/mkayanda/deep-_learning/blob/main/02_Data_representation_for_nueral_networks.ipynb\" target=\"_parent\"><img src=\"https://colab.research.google.com/assets/colab-badge.svg\" alt=\"Open In Colab\"/></a>"
      ]
    },
    {
      "cell_type": "markdown",
      "source": [
        "  Building an intuition into mathematical concepts (i.e. tensors, tensor operations, differentiation, gradient descent, etc) is key to working with deep learning. \n",
        "\n",
        "  In general all current machine learning sysyesm use tensors as their basic data structure. A tensor is a container of data - usually numeric data. \n",
        "\n",
        "  1. **Scalars** (rank-0 tensor) are a tensor that contains only one number. \n",
        "    \n",
        "    In numpy which a float32 or float64 number is a scalar tensor. Generally you can display the number of axes of a numpy tensor via the ndim attribute. For a scalar it will have 0 axes, that is, ndim == 0."
      ],
      "metadata": {
        "id": "AvmLrsOom5HU"
      }
    },
    {
      "cell_type": "code",
      "source": [
        "import numpy as np\n",
        "x = np.array(12)\n",
        "x"
      ],
      "metadata": {
        "colab": {
          "base_uri": "https://localhost:8080/"
        },
        "id": "bYF60vGUq4k5",
        "outputId": "4692cb24-3bbe-4234-cd58-6f454787b628"
      },
      "execution_count": 1,
      "outputs": [
        {
          "output_type": "execute_result",
          "data": {
            "text/plain": [
              "array(12)"
            ]
          },
          "metadata": {},
          "execution_count": 1
        }
      ]
    },
    {
      "cell_type": "code",
      "source": [
        "x.ndim"
      ],
      "metadata": {
        "colab": {
          "base_uri": "https://localhost:8080/"
        },
        "id": "99gci-sVrBUl",
        "outputId": "ffe5d451-822e-4bf3-d354-30f8a2ff968a"
      },
      "execution_count": 2,
      "outputs": [
        {
          "output_type": "execute_result",
          "data": {
            "text/plain": [
              "0"
            ]
          },
          "metadata": {},
          "execution_count": 2
        }
      ]
    },
    {
      "cell_type": "markdown",
      "source": [
        "  2. **Vectors** (rank-1 tensors) is an array of numbers.It has 1 axis. "
      ],
      "metadata": {
        "id": "4eAwEtPlrFot"
      }
    },
    {
      "cell_type": "code",
      "source": [
        "x = np.array([34, 565, 65, 67])\n",
        "print(x)\n",
        "print('\\n')\n",
        "print(f'The number of axis is {x.ndim}')"
      ],
      "metadata": {
        "colab": {
          "base_uri": "https://localhost:8080/"
        },
        "id": "2RQCy7oorf3E",
        "outputId": "4f0c840d-c587-4814-c558-546753cf19ad"
      },
      "execution_count": 3,
      "outputs": [
        {
          "output_type": "stream",
          "name": "stdout",
          "text": [
            "[ 34 565  65  67]\n",
            "\n",
            "\n",
            "The number of axis is 1\n"
          ]
        }
      ]
    },
    {
      "cell_type": "markdown",
      "source": [
        "Vector *x* here would be refered to as 4-dimensional because it has four entries. Dimensionality denotes either the number of entries along a specific axis (in our case 4D vector) or the number of axes in a tensor (such as a 5D tensor). **This can be confusing at times.**"
      ],
      "metadata": {
        "id": "mx1hkRsDvEB_"
      }
    },
    {
      "cell_type": "markdown",
      "source": [
        "  3. **Matrices**  (rank-2 tensors) is an array of vectors. It has two axes i.e. rows and colums. \n",
        "\n",
        "Visually it looks like a rectangular grid of numbers."
      ],
      "metadata": {
        "id": "2oazkNY_y0g6"
      }
    },
    {
      "cell_type": "code",
      "source": [
        "x = np.array([[5, 78, 2, 34, 0],\n",
        "              [6, 79, 3, 35, 1],\n",
        "              [7, 80, 4, 36, 2]])\n",
        "\n",
        "x.ndim"
      ],
      "metadata": {
        "colab": {
          "base_uri": "https://localhost:8080/"
        },
        "id": "RUxjSk8ovDK7",
        "outputId": "e06a965d-121c-499a-9877-6f477cbfd82a"
      },
      "execution_count": 4,
      "outputs": [
        {
          "output_type": "execute_result",
          "data": {
            "text/plain": [
              "2"
            ]
          },
          "metadata": {},
          "execution_count": 4
        }
      ]
    },
    {
      "cell_type": "markdown",
      "source": [
        "  4. **Rank-3 and higher-rank tensors**\n",
        "You can pack matrices in a new array and obtain higher ranking tensors. "
      ],
      "metadata": {
        "id": "bBjx2T0Oz26S"
      }
    },
    {
      "cell_type": "code",
      "source": [
        "x = np.array([[[5, 78, 2, 34, 0],\n",
        "               [6, 79, 3, 35, 1],\n",
        "               [7, 80, 4, 36, 2]],\n",
        "              [[5, 78, 2, 34, 0],\n",
        "               [6, 79, 3, 35, 1],\n",
        "               [7, 80, 4, 36, 2]],\n",
        "              [[5, 78, 2, 34, 0],\n",
        "               [6, 79, 3, 35, 1],\n",
        "               [7, 80, 4, 36, 2]]])\n",
        "\n",
        "x.ndim "
      ],
      "metadata": {
        "colab": {
          "base_uri": "https://localhost:8080/"
        },
        "id": "BP1AuPUD0oWS",
        "outputId": "06b374e8-c597-4ea7-fee2-3fc6f1d8b380"
      },
      "execution_count": 5,
      "outputs": [
        {
          "output_type": "execute_result",
          "data": {
            "text/plain": [
              "3"
            ]
          },
          "metadata": {},
          "execution_count": 5
        }
      ]
    },
    {
      "cell_type": "markdown",
      "source": [
        "*What are the key attributes of a tensor?*\n",
        "\n",
        "    1. Number of axes(rank) - rank-3 tensor has three axes, matrix has two axes. \n",
        "    2. Shape - a tuple of integers describing how many dimensions the tensor has along each axis. for example the matrix above has a shape of (3, 5) and the rank-3 tensor above has a shape of (3,3,5) while a vector has a single element such as (4, ) above. \n",
        "    3. Data type - type of data contained in a tensor. "
      ],
      "metadata": {
        "id": "AO34xrpY5G8c"
      }
    },
    {
      "cell_type": "code",
      "execution_count": 6,
      "metadata": {
        "id": "UdIfDW4yYluv",
        "colab": {
          "base_uri": "https://localhost:8080/"
        },
        "outputId": "e6cc02b8-cf76-4c02-cb69-3f31a045ed61"
      },
      "outputs": [
        {
          "output_type": "stream",
          "name": "stdout",
          "text": [
            "Downloading data from https://storage.googleapis.com/tensorflow/tf-keras-datasets/mnist.npz\n",
            "11493376/11490434 [==============================] - 0s 0us/step\n",
            "11501568/11490434 [==============================] - 0s 0us/step\n"
          ]
        }
      ],
      "source": [
        "#checking with an example \n",
        "\n",
        "from tensorflow.keras.datasets import mnist\n",
        "(train_images, train_labels), (test_images, test_labels) = mnist.load_data()"
      ]
    },
    {
      "cell_type": "code",
      "source": [
        "# display number of axes for train_images\n",
        "\n",
        "train_images.ndim"
      ],
      "metadata": {
        "id": "rl7fLpFLb5uY",
        "colab": {
          "base_uri": "https://localhost:8080/"
        },
        "outputId": "3dd62af6-086e-4874-bb88-1cb464c34cf2"
      },
      "execution_count": 7,
      "outputs": [
        {
          "output_type": "execute_result",
          "data": {
            "text/plain": [
              "3"
            ]
          },
          "metadata": {},
          "execution_count": 7
        }
      ]
    },
    {
      "cell_type": "code",
      "source": [
        "# display the shape\n",
        "train_images.shape"
      ],
      "metadata": {
        "colab": {
          "base_uri": "https://localhost:8080/"
        },
        "id": "oYuC-IHr9KLV",
        "outputId": "c741e19d-87f1-4bf4-cc27-6a44a5ebdfa9"
      },
      "execution_count": 8,
      "outputs": [
        {
          "output_type": "execute_result",
          "data": {
            "text/plain": [
              "(60000, 28, 28)"
            ]
          },
          "metadata": {},
          "execution_count": 8
        }
      ]
    },
    {
      "cell_type": "code",
      "source": [
        "#display datatype\n",
        "train_images.dtype"
      ],
      "metadata": {
        "colab": {
          "base_uri": "https://localhost:8080/"
        },
        "id": "zKdp0Xzo9OPc",
        "outputId": "ac43d6dd-1cfb-454f-8870-f8bf177ea228"
      },
      "execution_count": 9,
      "outputs": [
        {
          "output_type": "execute_result",
          "data": {
            "text/plain": [
              "dtype('uint8')"
            ]
          },
          "metadata": {},
          "execution_count": 9
        }
      ]
    },
    {
      "cell_type": "code",
      "source": [
        "# display the 8th digit\n",
        "import matplotlib.pyplot as plt\n",
        "digit = train_images[8]\n",
        "plt.imshow(digit, cmap=plt.cm.binary)\n",
        "plt.show()"
      ],
      "metadata": {
        "colab": {
          "base_uri": "https://localhost:8080/",
          "height": 265
        },
        "id": "MiGty1Rz9SxU",
        "outputId": "4d3f8e0d-66bd-496a-ab9d-c3054ec0b35a"
      },
      "execution_count": 10,
      "outputs": [
        {
          "output_type": "display_data",
          "data": {
            "image/png": "[encoded data removed]",
            "text/plain": [
              "<Figure size 432x288 with 1 Axes>"
            ]
          },
          "metadata": {
            "needs_background": "light"
          }
        }
      ]
    },
    {
      "cell_type": "code",
      "source": [
        "#checking against corresponing label\n",
        "train_labels[8]"
      ],
      "metadata": {
        "colab": {
          "base_uri": "https://localhost:8080/"
        },
        "id": "mkVLu1mm-qSY",
        "outputId": "907e7faa-3503-45e1-dd1b-91daef77ee64"
      },
      "execution_count": 11,
      "outputs": [
        {
          "output_type": "execute_result",
          "data": {
            "text/plain": [
              "1"
            ]
          },
          "metadata": {},
          "execution_count": 11
        }
      ]
    },
    {
      "cell_type": "markdown",
      "source": [
        "You may choose to manipulate tensors using numpy's slicing operations. For example:-"
      ],
      "metadata": {
        "id": "4DxoGZLwGh5t"
      }
    },
    {
      "cell_type": "code",
      "source": [
        "#this selects digits #10 to 100 (100 not included) and put them in an array of the resulting shape\n",
        "my_slice = train_images[10:100]\n",
        "my_slice.shape"
      ],
      "metadata": {
        "colab": {
          "base_uri": "https://localhost:8080/"
        },
        "id": "wrg2Epe_-9Ff",
        "outputId": "1643d71c-8971-4e67-b0a6-29654af02f39"
      },
      "execution_count": 12,
      "outputs": [
        {
          "output_type": "execute_result",
          "data": {
            "text/plain": [
              "(90, 28, 28)"
            ]
          },
          "metadata": {},
          "execution_count": 12
        }
      ]
    },
    {
      "cell_type": "code",
      "source": [
        "# you may select between any two indicies along each tensor axis\n",
        "my_slice = train_images[:, 14:, 14:]\n",
        "my_slice"
      ],
      "metadata": {
        "colab": {
          "base_uri": "https://localhost:8080/"
        },
        "id": "k55_f3FNG7NL",
        "outputId": "e0acb087-d68b-4910-9052-ae14542286b5"
      },
      "execution_count": 13,
      "outputs": [
        {
          "output_type": "execute_result",
          "data": {
            "text/plain": [
              "array([[[240, 253, 253, ...,   0,   0,   0],\n",
              "        [ 45, 186, 253, ...,   0,   0,   0],\n",
              "        [  0,  16,  93, ...,   0,   0,   0],\n",
              "        ...,\n",
              "        [  0,   0,   0, ...,   0,   0,   0],\n",
              "        [  0,   0,   0, ...,   0,   0,   0],\n",
              "        [  0,   0,   0, ...,   0,   0,   0]],\n",
              "\n",
              "       [[  0,   0,   0, ...,   0,   0,   0],\n",
              "        [  0,   0,   0, ...,   0,   0,   0],\n",
              "        [  0,   0,   0, ...,   0,   0,   0],\n",
              "        ...,\n",
              "        [  0,   0,   0, ...,   0,   0,   0],\n",
              "        [  0,   0,   0, ...,   0,   0,   0],\n",
              "        [  0,   0,   0, ...,   0,   0,   0]],\n",
              "\n",
              "       [[241, 243, 234, ...,   0,   0,   0],\n",
              "        [143,  91,  28, ...,   0,   0,   0],\n",
              "        [  0,   0,   0, ...,   0,   0,   0],\n",
              "        ...,\n",
              "        [  0,   0,   0, ...,   0,   0,   0],\n",
              "        [  0,   0,   0, ...,   0,   0,   0],\n",
              "        [  0,   0,   0, ...,   0,   0,   0]],\n",
              "\n",
              "       ...,\n",
              "\n",
              "       [[253, 254, 253, ...,   0,   0,   0],\n",
              "        [ 72, 192, 254, ...,   0,   0,   0],\n",
              "        [  0,   6, 242, ...,   0,   0,   0],\n",
              "        ...,\n",
              "        [  0,   0,   0, ...,   0,   0,   0],\n",
              "        [  0,   0,   0, ...,   0,   0,   0],\n",
              "        [  0,   0,   0, ...,   0,   0,   0]],\n",
              "\n",
              "       [[  0,  31, 127, ...,   0,   0,   0],\n",
              "        [ 27, 218, 252, ...,   0,   0,   0],\n",
              "        [194, 253, 217, ...,   0,   0,   0],\n",
              "        ...,\n",
              "        [  0,   0,   0, ...,   0,   0,   0],\n",
              "        [  0,   0,   0, ...,   0,   0,   0],\n",
              "        [  0,   0,   0, ...,   0,   0,   0]],\n",
              "\n",
              "       [[ 97, 254, 252, ...,   0,   0,   0],\n",
              "        [232, 181,  60, ...,   0,   0,   0],\n",
              "        [ 46,   0,   0, ...,   0,   0,   0],\n",
              "        ...,\n",
              "        [  0,   0,   0, ...,   0,   0,   0],\n",
              "        [  0,   0,   0, ...,   0,   0,   0],\n",
              "        [  0,   0,   0, ...,   0,   0,   0]]], dtype=uint8)"
            ]
          },
          "metadata": {},
          "execution_count": 13
        }
      ]
    },
    {
      "cell_type": "code",
      "source": [
        "# you also use negative indices\n",
        "my_slice = train_images[:, 7: -7, 7: -7]\n",
        "my_slice"
      ],
      "metadata": {
        "colab": {
          "base_uri": "https://localhost:8080/"
        },
        "id": "tryYSsGtS-MU",
        "outputId": "85bb9b38-8dde-4144-80cc-e805a5085125"
      },
      "execution_count": 14,
      "outputs": [
        {
          "output_type": "execute_result",
          "data": {
            "text/plain": [
              "array([[[ 49, 238, 253, ...,  93,  82,  82],\n",
              "        [ 18, 219, 253, ...,   0,   0,   0],\n",
              "        [  0,  80, 156, ...,   0,   0,   0],\n",
              "        ...,\n",
              "        [  0,   0,   0, ..., 253, 207,   2],\n",
              "        [  0,   0,   0, ..., 250, 182,   0],\n",
              "        [  0,   0,   0, ...,  78,   0,   0]],\n",
              "\n",
              "       [[  0,   0,   0, ...,  84, 252, 253],\n",
              "        [  0,   0,   0, ...,  96, 189, 253],\n",
              "        [  0,   0,   0, ...,  47,  79, 255],\n",
              "        ...,\n",
              "        [252, 145,   0, ..., 252, 173,   0],\n",
              "        [253, 225,   0, ..., 162,   0,   0],\n",
              "        [252, 249, 146, ...,  56,   0,   0]],\n",
              "\n",
              "       [[  0,   0,   0, ...,   0,   2, 153],\n",
              "        [  0,   0,   0, ...,   0,  27, 254],\n",
              "        [  0,   0,   0, ...,   0, 183, 254],\n",
              "        ...,\n",
              "        [  0,   0,   0, ..., 254,  57,   0],\n",
              "        [  0,   0,   0, ..., 254,  57,   0],\n",
              "        [  0,   0,   0, ..., 255,  94,   0]],\n",
              "\n",
              "       ...,\n",
              "\n",
              "       [[  0,   0,   0, ..., 223, 159, 131],\n",
              "        [  0,   0,   0, ...,  27,   0,   0],\n",
              "        [  0,   0,  54, ...,   0,   0,   0],\n",
              "        ...,\n",
              "        [  0,   0,   0, ..., 173,   0,   0],\n",
              "        [  0,   0,   0, ..., 173,   0,   0],\n",
              "        [  0,   0,   0, ...,  74,   0,   0]],\n",
              "\n",
              "       [[  0,   0,   0, ...,   0,   0,   0],\n",
              "        [  0,   0,   0, ...,   0,   0,   0],\n",
              "        [  0,   0,   0, ...,   0,   0,   0],\n",
              "        ...,\n",
              "        [247, 110,   0, ..., 146, 163,  63],\n",
              "        [236, 128,   0, ..., 178,  12,   0],\n",
              "        [239, 196, 169, ...,   0,   0,   0]],\n",
              "\n",
              "       [[  0,   0,   0, ..., 254, 212,  27],\n",
              "        [  0,   0,   0, ..., 218, 237, 248],\n",
              "        [  0,   0,   0, ...,   0,  92, 231],\n",
              "        ...,\n",
              "        [  0, 110, 254, ...,   0,   0,   0],\n",
              "        [131, 254, 154, ...,   0,   0,   0],\n",
              "        [209, 153,  19, ...,   0,   0,   0]]], dtype=uint8)"
            ]
          },
          "metadata": {},
          "execution_count": 14
        }
      ]
    },
    {
      "cell_type": "markdown",
      "source": [
        "####Data Batches\n",
        "Deep learning models dont process an entire dataset at once but instead data is broken into small batches. Should note that in all data tensors in deep learning the first axis will be the samples axis."
      ],
      "metadata": {
        "id": "gXNKBO_bUP_O"
      }
    },
    {
      "cell_type": "code",
      "source": [
        "batch = train_images[: 128]\n",
        "batch"
      ],
      "metadata": {
        "colab": {
          "base_uri": "https://localhost:8080/"
        },
        "id": "lVqH40sKUAXK",
        "outputId": "9f1b21ca-3e96-4060-b1f0-95d1c5934f2d"
      },
      "execution_count": 16,
      "outputs": [
        {
          "output_type": "execute_result",
          "data": {
            "text/plain": [
              "array([[[0, 0, 0, ..., 0, 0, 0],\n",
              "        [0, 0, 0, ..., 0, 0, 0],\n",
              "        [0, 0, 0, ..., 0, 0, 0],\n",
              "        ...,\n",
              "        [0, 0, 0, ..., 0, 0, 0],\n",
              "        [0, 0, 0, ..., 0, 0, 0],\n",
              "        [0, 0, 0, ..., 0, 0, 0]],\n",
              "\n",
              "       [[0, 0, 0, ..., 0, 0, 0],\n",
              "        [0, 0, 0, ..., 0, 0, 0],\n",
              "        [0, 0, 0, ..., 0, 0, 0],\n",
              "        ...,\n",
              "        [0, 0, 0, ..., 0, 0, 0],\n",
              "        [0, 0, 0, ..., 0, 0, 0],\n",
              "        [0, 0, 0, ..., 0, 0, 0]],\n",
              "\n",
              "       [[0, 0, 0, ..., 0, 0, 0],\n",
              "        [0, 0, 0, ..., 0, 0, 0],\n",
              "        [0, 0, 0, ..., 0, 0, 0],\n",
              "        ...,\n",
              "        [0, 0, 0, ..., 0, 0, 0],\n",
              "        [0, 0, 0, ..., 0, 0, 0],\n",
              "        [0, 0, 0, ..., 0, 0, 0]],\n",
              "\n",
              "       ...,\n",
              "\n",
              "       [[0, 0, 0, ..., 0, 0, 0],\n",
              "        [0, 0, 0, ..., 0, 0, 0],\n",
              "        [0, 0, 0, ..., 0, 0, 0],\n",
              "        ...,\n",
              "        [0, 0, 0, ..., 0, 0, 0],\n",
              "        [0, 0, 0, ..., 0, 0, 0],\n",
              "        [0, 0, 0, ..., 0, 0, 0]],\n",
              "\n",
              "       [[0, 0, 0, ..., 0, 0, 0],\n",
              "        [0, 0, 0, ..., 0, 0, 0],\n",
              "        [0, 0, 0, ..., 0, 0, 0],\n",
              "        ...,\n",
              "        [0, 0, 0, ..., 0, 0, 0],\n",
              "        [0, 0, 0, ..., 0, 0, 0],\n",
              "        [0, 0, 0, ..., 0, 0, 0]],\n",
              "\n",
              "       [[0, 0, 0, ..., 0, 0, 0],\n",
              "        [0, 0, 0, ..., 0, 0, 0],\n",
              "        [0, 0, 0, ..., 0, 0, 0],\n",
              "        ...,\n",
              "        [0, 0, 0, ..., 0, 0, 0],\n",
              "        [0, 0, 0, ..., 0, 0, 0],\n",
              "        [0, 0, 0, ..., 0, 0, 0]]], dtype=uint8)"
            ]
          },
          "metadata": {},
          "execution_count": 16
        }
      ]
    },
    {
      "cell_type": "code",
      "source": [
        "# next batch will be\n",
        "batch = train_images[128:256]\n",
        "\n",
        "# and the nth batch will be \n",
        "n = 3\n",
        "batch = train_images[128 * n: 128 * (n+1)]"
      ],
      "metadata": {
        "id": "QLL3Bp6AU3sV"
      },
      "execution_count": 17,
      "outputs": []
    },
    {
      "cell_type": "markdown",
      "source": [
        "When considering such a batch tensor, axis 0 (first axis) is refered to as the batch axis or batch dimension."
      ],
      "metadata": {
        "id": "hEtVfjvzV7Bl"
      }
    },
    {
      "cell_type": "markdown",
      "source": [
        "### A summary of real-world examples of data tensors. \n",
        "\n",
        "    1. Vector - where each sample is a vector of numerical attributes or features. rank2 tensors of shape (samples, features)\n",
        "    2. Time series data or sequence data - where each sample is a sequence of length timesteps of feature vectors. i.e. rank-3 tensor of shape (samples, timesteps, features).\n",
        "    3. Images - where each sample is a 2D grid of pixels, with each pixel represented by a vector of values (\"Channels\") i'e. rank-4 of tensors of shape (samples, height, width, channels).\n",
        "    4. Videos - where each sample is a sequence of length frames of images. i.e. tensors of shape (samples, frames, heights, width, channels).\n",
        "\n"
      ],
      "metadata": {
        "id": "uHpPz8WQWUhK"
      }
    },
    {
      "cell_type": "code",
      "source": [
        ""
      ],
      "metadata": {
        "id": "6huHkL3HVysu"
      },
      "execution_count": null,
      "outputs": []
    }
  ]
}