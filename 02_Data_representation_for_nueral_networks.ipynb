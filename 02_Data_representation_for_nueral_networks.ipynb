{
  "nbformat": 4,
  "nbformat_minor": 0,
  "metadata": {
    "colab": {
      "name": "02_Data_representation_for_nueral_networks.ipynb",
      "provenance": [],
      "authorship_tag": "ABX9TyOAjVN+2HAhz0HMmG8gyzDg",
      "include_colab_link": true
    },
    "kernelspec": {
      "name": "python3",
      "display_name": "Python 3"
    },
    "language_info": {
      "name": "python"
    }
  },
  "cells": [
    {
      "cell_type": "markdown",
      "metadata": {
        "id": "view-in-github",
        "colab_type": "text"
      },
      "source": [
        "<a href=\"https://colab.research.google.com/github/mkayanda/deep-_learning/blob/main/02_Data_representation_for_nueral_networks.ipynb\" target=\"_parent\"><img src=\"https://colab.research.google.com/assets/colab-badge.svg\" alt=\"Open In Colab\"/></a>"
      ]
    },
    {
      "cell_type": "markdown",
      "source": [
        "  Building an intuition into mathematical concepts (i.e. tensors, tensor operations, differentiation, gradient descent, etc) is key to working with deep learning. \n",
        "\n",
        "  In general all current machine learning sysyesm use tensors as their basic data structure. A tensor is a container of data - usually numeric data. \n",
        "\n",
        "  1. **Scalars** (rank-0 tensor) are a tensor that contains only one number. \n",
        "    \n",
        "    In numpy which a float32 or float64 number is a scalar tensor. Generally you can display the number of axes of a numpy tensor via the ndim attribute. For a scalar it will have 0 axes, that is, ndim == 0."
      ],
      "metadata": {
        "id": "AvmLrsOom5HU"
      }
    },
    {
      "cell_type": "code",
      "source": [
        "import numpy as np\n",
        "x = np.array(12)\n",
        "x"
      ],
      "metadata": {
        "colab": {
          "base_uri": "https://localhost:8080/"
        },
        "id": "bYF60vGUq4k5",
        "outputId": "d0b4bb36-7c32-40a8-e8ce-7ba1c895253c"
      },
      "execution_count": 1,
      "outputs": [
        {
          "output_type": "execute_result",
          "data": {
            "text/plain": [
              "array(12)"
            ]
          },
          "metadata": {},
          "execution_count": 1
        }
      ]
    },
    {
      "cell_type": "code",
      "source": [
        "x.ndim"
      ],
      "metadata": {
        "colab": {
          "base_uri": "https://localhost:8080/"
        },
        "id": "99gci-sVrBUl",
        "outputId": "f82de83d-271c-485d-f824-bb459dd6a9ae"
      },
      "execution_count": 2,
      "outputs": [
        {
          "output_type": "execute_result",
          "data": {
            "text/plain": [
              "0"
            ]
          },
          "metadata": {},
          "execution_count": 2
        }
      ]
    },
    {
      "cell_type": "markdown",
      "source": [
        "  2. **Vectors** (rank-1 tensors) is an array of numbers.It has 1 axis. "
      ],
      "metadata": {
        "id": "4eAwEtPlrFot"
      }
    },
    {
      "cell_type": "code",
      "source": [
        "x = np.array([34, 565, 65, 67])\n",
        "print(x)\n",
        "print('\\n')\n",
        "print(f'The number of axis is {x.ndim}')"
      ],
      "metadata": {
        "colab": {
          "base_uri": "https://localhost:8080/"
        },
        "id": "2RQCy7oorf3E",
        "outputId": "4945dc16-04ab-449a-96f1-e967babd6009"
      },
      "execution_count": 13,
      "outputs": [
        {
          "output_type": "stream",
          "name": "stdout",
          "text": [
            "[ 34 565  65  67]\n",
            "\n",
            "\n",
            "The number of axis is 1\n"
          ]
        }
      ]
    },
    {
      "cell_type": "markdown",
      "source": [
        "Vector *x* here would be refered to as 4-dimensional because it has four entries. Dimensionality denotes either the number of entries along a specific axis (in our case 4D vector) or the number of axes in a tensor (such as a 5D tensor). **This can be confusing at times.**"
      ],
      "metadata": {
        "id": "mx1hkRsDvEB_"
      }
    },
    {
      "cell_type": "markdown",
      "source": [
        "  3. **Matrices**  (rank-2 tensors) is an array of vectors. It has two axes i.e. rows and colums. \n",
        "\n",
        "Visually it looks like a rectangular grid of numbers."
      ],
      "metadata": {
        "id": "2oazkNY_y0g6"
      }
    },
    {
      "cell_type": "code",
      "source": [
        "x = np.array([[5, 78, 2, 34, 0],\n",
        "              [6, 79, 3, 35, 1],\n",
        "              [7, 80, 4, 36, 2]])\n",
        "\n",
        "x.ndim"
      ],
      "metadata": {
        "colab": {
          "base_uri": "https://localhost:8080/"
        },
        "id": "RUxjSk8ovDK7",
        "outputId": "4c81e6c7-1675-4201-f8e0-f1ad79af1292"
      },
      "execution_count": 14,
      "outputs": [
        {
          "output_type": "execute_result",
          "data": {
            "text/plain": [
              "2"
            ]
          },
          "metadata": {},
          "execution_count": 14
        }
      ]
    },
    {
      "cell_type": "markdown",
      "source": [
        "  4. **Rank-3 and higher-rank tensors**\n",
        "You can pack matrices in a new array and obtain higher ranking tensors. "
      ],
      "metadata": {
        "id": "bBjx2T0Oz26S"
      }
    },
    {
      "cell_type": "code",
      "source": [
        "x = np.array([[[5, 78, 2, 34, 0],\n",
        "               [6, 79, 3, 35, 1],\n",
        "               [7, 80, 4, 36, 2]],\n",
        "              [[5, 78, 2, 34, 0],\n",
        "               [6, 79, 3, 35, 1],\n",
        "               [7, 80, 4, 36, 2]],\n",
        "              [[5, 78, 2, 34, 0],\n",
        "               [6, 79, 3, 35, 1],\n",
        "               [7, 80, 4, 36, 2]]])\n",
        "\n",
        "x.ndim "
      ],
      "metadata": {
        "colab": {
          "base_uri": "https://localhost:8080/"
        },
        "id": "BP1AuPUD0oWS",
        "outputId": "161feb2d-e97e-474c-c046-c0a6d242b75f"
      },
      "execution_count": 15,
      "outputs": [
        {
          "output_type": "execute_result",
          "data": {
            "text/plain": [
              "3"
            ]
          },
          "metadata": {},
          "execution_count": 15
        }
      ]
    },
    {
      "cell_type": "markdown",
      "source": [
        "*What are the key attributes of a tensor?*\n",
        "\n",
        "    1. Number of axes(rank) - rank-3 tensor has three axes, matrix has two axes. \n",
        "    2. Shape - a tuple of integers describing how many dimensions the tensor has along each axis. for example the matrix above has a shape of (3, 5) and the rank-3 tensor above has a shape of (3,3,5) while a vector has a single element such as (4, ) above. \n",
        "    3. Data type - type of data contained in a tensor. "
      ],
      "metadata": {
        "id": "AO34xrpY5G8c"
      }
    },
    {
      "cell_type": "code",
      "execution_count": 1,
      "metadata": {
        "id": "UdIfDW4yYluv",
        "colab": {
          "base_uri": "https://localhost:8080/"
        },
        "outputId": "a72381f5-cada-4e40-8238-2066dbb73774"
      },
      "outputs": [
        {
          "output_type": "stream",
          "name": "stdout",
          "text": [
            "Downloading data from https://storage.googleapis.com/tensorflow/tf-keras-datasets/mnist.npz\n",
            "11493376/11490434 [==============================] - 0s 0us/step\n",
            "11501568/11490434 [==============================] - 0s 0us/step\n"
          ]
        }
      ],
      "source": [
        "#checking with an example \n",
        "\n",
        "from tensorflow.keras.datasets import mnist\n",
        "(train_images, train_labels), (test_images, test_labels) = mnist.load_data()"
      ]
    },
    {
      "cell_type": "code",
      "source": [
        "# display number of axes for train_images\n",
        "\n",
        "train_images.ndim"
      ],
      "metadata": {
        "id": "rl7fLpFLb5uY",
        "colab": {
          "base_uri": "https://localhost:8080/"
        },
        "outputId": "73a97d59-9a6c-4310-f443-715f9f813944"
      },
      "execution_count": 2,
      "outputs": [
        {
          "output_type": "execute_result",
          "data": {
            "text/plain": [
              "3"
            ]
          },
          "metadata": {},
          "execution_count": 2
        }
      ]
    },
    {
      "cell_type": "code",
      "source": [
        "# display the shape\n",
        "train_images.shape"
      ],
      "metadata": {
        "colab": {
          "base_uri": "https://localhost:8080/"
        },
        "id": "oYuC-IHr9KLV",
        "outputId": "2fe60e24-9fc5-4615-9a68-b19ed8010eea"
      },
      "execution_count": 3,
      "outputs": [
        {
          "output_type": "execute_result",
          "data": {
            "text/plain": [
              "(60000, 28, 28)"
            ]
          },
          "metadata": {},
          "execution_count": 3
        }
      ]
    },
    {
      "cell_type": "code",
      "source": [
        "#display datatype\n",
        "train_images.dtype"
      ],
      "metadata": {
        "colab": {
          "base_uri": "https://localhost:8080/"
        },
        "id": "zKdp0Xzo9OPc",
        "outputId": "3137d6e0-a51b-4db9-bebf-37e195b5821a"
      },
      "execution_count": 4,
      "outputs": [
        {
          "output_type": "execute_result",
          "data": {
            "text/plain": [
              "dtype('uint8')"
            ]
          },
          "metadata": {},
          "execution_count": 4
        }
      ]
    },
    {
      "cell_type": "code",
      "source": [
        "# display the 8th digit\n",
        "import matplotlib.pyplot as plt\n",
        "digit = train_images[8]\n",
        "plt.imshow(digit, cmap=plt.cm.binary)\n",
        "plt.show()"
      ],
      "metadata": {
        "colab": {
          "base_uri": "https://localhost:8080/",
          "height": 265
        },
        "id": "MiGty1Rz9SxU",
        "outputId": "88ce8e96-1a35-43fc-ad08-1b32664cf97a"
      },
      "execution_count": 6,
      "outputs": [
        {
          "output_type": "display_data",
          "data": {
            "image/png": "[encoded data removed]",
            "text/plain": [
              "<Figure size 432x288 with 1 Axes>"
            ]
          },
          "metadata": {
            "needs_background": "light"
          }
        }
      ]
    },
    {
      "cell_type": "code",
      "source": [
        "#checking against corresponing label\n",
        "train_labels[8]"
      ],
      "metadata": {
        "colab": {
          "base_uri": "https://localhost:8080/"
        },
        "id": "mkVLu1mm-qSY",
        "outputId": "4da2df38-2d28-49da-fbbc-7f3365807453"
      },
      "execution_count": 8,
      "outputs": [
        {
          "output_type": "execute_result",
          "data": {
            "text/plain": [
              "1"
            ]
          },
          "metadata": {},
          "execution_count": 8
        }
      ]
    },
    {
      "cell_type": "code",
      "source": [
        ""
      ],
      "metadata": {
        "id": "wrg2Epe_-9Ff"
      },
      "execution_count": null,
      "outputs": []
    }
  ]
}